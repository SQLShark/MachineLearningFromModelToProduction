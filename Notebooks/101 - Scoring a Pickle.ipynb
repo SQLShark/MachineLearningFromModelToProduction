{
 "cells": [
  {
   "cell_type": "code",
   "execution_count": 1,
   "metadata": {},
   "outputs": [
    {
     "name": "stdout",
     "output_type": "stream",
     "text": [
      "[152.9282442]\n"
     ]
    }
   ],
   "source": [
    "import _pickle as pickle\n",
    "\n",
    "PickleModelPath = './regression.pkl'\n",
    "\n",
    "var1 = [[0.00001]]\n",
    "\n",
    "with open(PickleModelPath, 'rb') as k:\n",
    "        PickleModel = pickle.load(k)\n",
    "Answer = PickleModel.predict(var1)\n",
    "\n",
    "print(Answer)"
   ]
  },
  {
   "cell_type": "code",
   "execution_count": null,
   "metadata": {
    "collapsed": true
   },
   "outputs": [],
   "source": []
  }
 ],
 "metadata": {
  "anaconda-cloud": {},
  "kernelspec": {
   "display_name": "Python 3",
   "language": "python",
   "name": "python3"
  },
  "language_info": {
   "codemirror_mode": {
    "name": "ipython",
    "version": 3
   },
   "file_extension": ".py",
   "mimetype": "text/x-python",
   "name": "python",
   "nbconvert_exporter": "python",
   "pygments_lexer": "ipython3",
   "version": "3.7.1"
  }
 },
 "nbformat": 4,
 "nbformat_minor": 1
}
